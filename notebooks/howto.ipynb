{
 "cells": [
  {
   "cell_type": "code",
   "execution_count": 1,
   "metadata": {},
   "outputs": [],
   "source": [
    "import matplotlib. pyplot as plt\n",
    "import seaborn as sns\n",
    "plt.rcParams['figure.figsize'] = [12.0, 6.0]\n",
    "\n",
    "import okama as ok"
   ]
  },
  {
   "cell_type": "markdown",
   "metadata": {},
   "source": [
    "## Get information about a single asset"
   ]
  },
  {
   "cell_type": "markdown",
   "metadata": {},
   "source": [
    "You can start with getting general information about a single asset / index."
   ]
  },
  {
   "cell_type": "code",
   "execution_count": 3,
   "metadata": {},
   "outputs": [
    {
     "data": {
      "text/plain": [
       "symbol                             VOO.US\n",
       "name                 Vanguard S&P 500 ETF\n",
       "country                               USA\n",
       "exchange                        NYSE ARCA\n",
       "currency                              USD\n",
       "type                                  ETF\n",
       "first date                        2010-10\n",
       "last date                         2020-11\n",
       "period length (Y)                   10.10\n",
       "dtype: object"
      ]
     },
     "execution_count": 3,
     "metadata": {},
     "output_type": "execute_result"
    }
   ],
   "source": [
    "one_asset = ok.Asset('VOO.US')\n",
    "one_asset"
   ]
  },
  {
   "cell_type": "code",
   "execution_count": 6,
   "metadata": {},
   "outputs": [
    {
     "data": {
      "text/plain": [
       "327.32"
      ]
     },
     "execution_count": 6,
     "metadata": {},
     "output_type": "execute_result"
    }
   ],
   "source": [
    "# live price\n",
    "one_asset.price"
   ]
  },
  {
   "cell_type": "code",
   "execution_count": 9,
   "metadata": {},
   "outputs": [
    {
     "data": {
      "text/plain": [
       "Date\n",
       "2018-06-28    1.1573\n",
       "2018-09-26    1.2067\n",
       "2018-12-17    1.2890\n",
       "2019-03-21    1.4551\n",
       "2019-06-27    1.3859\n",
       "2019-09-26    1.3014\n",
       "2019-12-23    1.4285\n",
       "2020-03-10    1.1780\n",
       "2020-06-29    1.4333\n",
       "2020-09-29    1.3085\n",
       "Freq: D, Name: VOO.US, dtype: float64"
      ]
     },
     "execution_count": 9,
     "metadata": {},
     "output_type": "execute_result"
    }
   ],
   "source": [
    "#dividends history\n",
    "one_asset.dividends.tail(10)"
   ]
  },
  {
   "cell_type": "markdown",
   "metadata": {},
   "source": [
    "If you doubt about ticker availability or asset name, check it with _search_:"
   ]
  },
  {
   "cell_type": "code",
   "execution_count": 10,
   "metadata": {},
   "outputs": [
    {
     "data": {
      "text/plain": [
       "[['XOM.US',\n",
       "  'XOM',\n",
       "  'Exxon Mobil Corporation',\n",
       "  'USA',\n",
       "  'NYSE',\n",
       "  'USD',\n",
       "  'Common Stock'],\n",
       " ['XONA.XETR',\n",
       "  'XONA',\n",
       "  'Exxon Mobil Corporation',\n",
       "  'Germany',\n",
       "  'XETR',\n",
       "  'EUR',\n",
       "  'Common Stock']]"
      ]
     },
     "execution_count": 10,
     "metadata": {},
     "output_type": "execute_result"
    }
   ],
   "source": [
    "ok.search('exxon')"
   ]
  },
  {
   "cell_type": "code",
   "execution_count": 11,
   "metadata": {},
   "outputs": [
    {
     "data": {
      "text/plain": [
       "{'US': 'US Stock Exchanges and mutual funds',\n",
       " 'XETR': 'Frankfurt Stock Exchange',\n",
       " 'MOEX': 'Moscow Exchange',\n",
       " 'PIF': 'Russian mutual funds',\n",
       " 'FX': 'FOREX currency market',\n",
       " 'INDX': 'Indexes',\n",
       " 'COMM': 'Commodities prices',\n",
       " 'RE': 'Real estate prices',\n",
       " 'INFL': 'Inflation',\n",
       " 'RATE': 'Bank deposit rates'}"
      ]
     },
     "execution_count": 11,
     "metadata": {},
     "output_type": "execute_result"
    }
   ],
   "source": [
    "# available namespaces\n",
    "ok.namespaces"
   ]
  }
 ],
 "metadata": {
  "kernelspec": {
   "display_name": "py38",
   "language": "python",
   "name": "py38"
  },
  "language_info": {
   "codemirror_mode": {
    "name": "ipython",
    "version": 3
   },
   "file_extension": ".py",
   "mimetype": "text/x-python",
   "name": "python",
   "nbconvert_exporter": "python",
   "pygments_lexer": "ipython3",
   "version": "3.8.5"
  }
 },
 "nbformat": 4,
 "nbformat_minor": 4
}
